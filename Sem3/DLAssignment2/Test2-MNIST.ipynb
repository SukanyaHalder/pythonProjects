{
 "cells": [
  {
   "cell_type": "code",
   "execution_count": null,
   "id": "97360eb9-328a-4fe8-9f81-3e9ee26482ed",
   "metadata": {},
   "outputs": [],
   "source": []
  },
  {
   "cell_type": "code",
   "execution_count": null,
   "id": "9738ac09-3670-4393-95ca-2543c8ac3d27",
   "metadata": {},
   "outputs": [
    {
     "name": "stderr",
     "output_type": "stream",
     "text": [
      "100%|███████████████████████████████████████████████████████████████████████████████| 206M/206M [02:07<00:00, 1.61MB/s]\n",
      "C:\\Users\\sukanya\\AppData\\Local\\Programs\\Python\\Python312\\Lib\\site-packages\\keras\\src\\layers\\convolutional\\base_conv.py:107: UserWarning: Do not pass an `input_shape`/`input_dim` argument to a layer. When using Sequential models, prefer using an `Input(shape)` object as the first layer in the model instead.\n",
      "  super().__init__(activity_regularizer=activity_regularizer, **kwargs)\n"
     ]
    },
    {
     "name": "stdout",
     "output_type": "stream",
     "text": [
      "Epoch 1/50\n",
      "\u001b[1m1688/1688\u001b[0m \u001b[32m━━━━━━━━━━━━━━━━━━━━\u001b[0m\u001b[37m\u001b[0m \u001b[1m162s\u001b[0m 78ms/step - accuracy: 0.3756 - loss: 1.6528 - val_accuracy: 0.6216 - val_loss: 0.9840\n",
      "Epoch 2/50\n",
      "\u001b[1m1688/1688\u001b[0m \u001b[32m━━━━━━━━━━━━━━━━━━━━\u001b[0m\u001b[37m\u001b[0m \u001b[1m95s\u001b[0m 50ms/step - accuracy: 0.6450 - loss: 0.9391 - val_accuracy: 0.7058 - val_loss: 0.8014\n",
      "Epoch 3/50\n",
      "\u001b[1m1688/1688\u001b[0m \u001b[32m━━━━━━━━━━━━━━━━━━━━\u001b[0m\u001b[37m\u001b[0m \u001b[1m135s\u001b[0m 42ms/step - accuracy: 0.7117 - loss: 0.7863 - val_accuracy: 0.7532 - val_loss: 0.7036\n",
      "Epoch 4/50\n",
      "\u001b[1m1688/1688\u001b[0m \u001b[32m━━━━━━━━━━━━━━━━━━━━\u001b[0m\u001b[37m\u001b[0m \u001b[1m94s\u001b[0m 54ms/step - accuracy: 0.7457 - loss: 0.6990 - val_accuracy: 0.7732 - val_loss: 0.6186\n",
      "Epoch 5/50\n",
      "\u001b[1m1688/1688\u001b[0m \u001b[32m━━━━━━━━━━━━━━━━━━━━\u001b[0m\u001b[37m\u001b[0m \u001b[1m0s\u001b[0m 55ms/step - accuracy: 0.7735 - loss: 0.6251"
     ]
    }
   ],
   "source": [
    "import tensorflow as tf\n",
    "import tensorflow_datasets as tfds\n",
    "import numpy as np\n",
    "from medmnist import PathMNIST\n",
    "\n",
    "# Define dataset name and parameters\n",
    "dataset_name = \"pathmnist\"  # Change to your dataset of choice\n",
    "batch_size = 32\n",
    "num_epochs = 50\n",
    "learning_rate = 0.001\n",
    "patience = 10\n",
    "num_classes = 9  # Adjust based on the dataset\n",
    "\n",
    "# Load dataset\n",
    "dataset = PathMNIST(split=\"train\", download=True)\n",
    "\n",
    "# Preprocessing function\n",
    "def preprocess(image, label):\n",
    "    image = tf.image.convert_image_dtype(image, tf.float32)\n",
    "    image = (image - 0.5) / 0.5  # Normalize to [-1, 1]\n",
    "    return image, tf.one_hot(label, depth=num_classes)\n",
    "\n",
    "# Convert dataset to TensorFlow format\n",
    "images = dataset.imgs\n",
    "labels = dataset.labels.squeeze()\n",
    "\n",
    "dataset_tf = tf.data.Dataset.from_tensor_slices((images, labels))\n",
    "dataset_tf = dataset_tf.map(preprocess)\n",
    "\n",
    "# Split dataset (60% train, 20% val, 20% test)\n",
    "data_size = len(images)\n",
    "train_size = int(0.6 * data_size)\n",
    "val_size = int(0.2 * data_size)\n",
    "\n",
    "dataset_tf = dataset_tf.shuffle(data_size)\n",
    "train_dataset = dataset_tf.take(train_size).batch(batch_size)\n",
    "val_dataset = dataset_tf.skip(train_size).take(val_size).batch(batch_size)\n",
    "test_dataset = dataset_tf.skip(train_size + val_size).batch(batch_size)\n",
    "\n",
    "# Define a simple CNN model\n",
    "model = tf.keras.Sequential([\n",
    "    tf.keras.layers.Conv2D(32, (3, 3), padding='same', activation='relu', input_shape=(28, 28, 3)),\n",
    "    tf.keras.layers.MaxPooling2D(2, 2),\n",
    "    tf.keras.layers.Conv2D(64, (3, 3), padding='same', activation='relu'),\n",
    "    tf.keras.layers.MaxPooling2D(2, 2),\n",
    "    tf.keras.layers.Flatten(),\n",
    "    tf.keras.layers.Dense(128, activation='relu'),\n",
    "    tf.keras.layers.Dense(num_classes, activation='softmax')\n",
    "])\n",
    "\n",
    "# Compile model\n",
    "model.compile(optimizer=tf.keras.optimizers.SGD(learning_rate=learning_rate, momentum=0.9),\n",
    "              loss='categorical_crossentropy',\n",
    "              metrics=['accuracy'])\n",
    "\n",
    "# Early stopping callback\n",
    "early_stopping = tf.keras.callbacks.EarlyStopping(monitor='val_loss', patience=patience, restore_best_weights=True)\n",
    "\n",
    "# Train the model\n",
    "model.fit(train_dataset, validation_data=val_dataset, epochs=num_epochs, callbacks=[early_stopping])\n",
    "\n",
    "print(\"Training complete.\")\n"
   ]
  }
 ],
 "metadata": {
  "kernelspec": {
   "display_name": "Python 3 (ipykernel)",
   "language": "python",
   "name": "python3"
  },
  "language_info": {
   "codemirror_mode": {
    "name": "ipython",
    "version": 3
   },
   "file_extension": ".py",
   "mimetype": "text/x-python",
   "name": "python",
   "nbconvert_exporter": "python",
   "pygments_lexer": "ipython3",
   "version": "3.12.6"
  }
 },
 "nbformat": 4,
 "nbformat_minor": 5
}
